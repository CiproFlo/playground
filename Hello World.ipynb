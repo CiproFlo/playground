{
 "cells": [
  {
   "cell_type": "code",
   "execution_count": 1,
   "metadata": {},
   "outputs": [
    {
     "name": "stdout",
     "output_type": "stream",
     "text": [
      "[0]\n"
     ]
    }
   ],
   "source": [
    "from sklearn import tree\n",
    "\n",
    "# Erste Position Gewicht in g, Zweite Positon Oberfläche (1 = glatt, 2 = rauh)\n",
    "features = [[140, 1],\n",
    "            [130, 1],\n",
    "            [150, 2],\n",
    "            [170, 2]]\n",
    "\n",
    "\n",
    "# Label 0 = Apfel, Label 1 = Orange\n",
    "labels = [0, 0, 1, 1]\n",
    "\n",
    "# Wähle Klassifier\n",
    "clf = tree.DecisionTreeClassifier()\n",
    "\n",
    "# Trainiere Klassifier\n",
    "clf = clf.fit(features, labels)\n",
    "\n",
    "# Ausgabe: Vorhersage\n",
    "print(clf.predict([[135, 1]]))"
   ]
  }
 ],
 "metadata": {
  "kernelspec": {
   "display_name": "Python 3",
   "language": "python",
   "name": "python3"
  },
  "language_info": {
   "codemirror_mode": {
    "name": "ipython",
    "version": 3
   },
   "file_extension": ".py",
   "mimetype": "text/x-python",
   "name": "python",
   "nbconvert_exporter": "python",
   "pygments_lexer": "ipython3",
   "version": "3.6.4"
  }
 },
 "nbformat": 4,
 "nbformat_minor": 2
}
