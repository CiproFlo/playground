{
 "cells": [
  {
   "cell_type": "code",
   "execution_count": 114,
   "metadata": {},
   "outputs": [],
   "source": [
    "import numpy as np\n",
    "from scipy.stats import mannwhitneyu\n",
    "import statsmodels.stats.api as sms\n",
    "import pandas as pd"
   ]
  },
  {
   "cell_type": "code",
   "execution_count": 82,
   "metadata": {},
   "outputs": [],
   "source": [
    "path = '/Volumes/Macintosh HD2/_Python/__Playground/'\n",
    "file_output = 'Results.csv'"
   ]
  },
  {
   "cell_type": "code",
   "execution_count": 13,
   "metadata": {},
   "outputs": [],
   "source": [
    "y = np.array([1,1,1,1,1,0,0,0,np.nan,1])\n",
    "x = np.array([10.1,np.nan,9.9,9.8,15.3,5.6,4.5,3.3,9.6,10.4])"
   ]
  },
  {
   "cell_type": "code",
   "execution_count": 113,
   "metadata": {},
   "outputs": [
    {
     "data": {
      "text/plain": [
       "(array([5.6, 4.5, 3.3]), array([10.1,  9.9,  9.8, 15.3, 10.4]))"
      ]
     },
     "execution_count": 113,
     "metadata": {},
     "output_type": "execute_result"
    }
   ],
   "source": [
    "# Remove missing values from x and y\n",
    "mask = np.logical_and(np.invert(np.isnan(x)), np.invert(np.isnan(y)))\n",
    "x = x[mask]\n",
    "y = y[mask]\n",
    "\n",
    "# Split observations based on output variable\n",
    "a = x[y==0]\n",
    "b = x[y==1]\n",
    "\n",
    "a, b"
   ]
  },
  {
   "cell_type": "code",
   "execution_count": 109,
   "metadata": {},
   "outputs": [
    {
     "name": "stdout",
     "output_type": "stream",
     "text": [
      "\"Feature_Name\",4.466666666666666,1.6090083898908998,7.3243249434424325,0.03688842570704987,3,[5.6 4.5 3.3]\n"
     ]
    }
   ],
   "source": [
    "# kwargs for calculation of confidence intervalls and MWU\n",
    "kwargs  = {'alpha': 0.05, 'alternative':'two-sided'}\n",
    "kwargsU = {'use_continuity': True, 'alternative': 'two-sided'}\n",
    "\n",
    "print('\"Feature_Name\"', \n",
    "      np.mean(a), # Mean\n",
    "      sms.DescrStatsW(a).tconfint_mean(**kwargs)[0], # Lower limit\n",
    "      sms.DescrStatsW(a).tconfint_mean(**kwargs)[1], # Upper limit\n",
    "      mannwhitneyu(a, b, **kwargsU)[1], # p-Value\n",
    "      len(a), # Number of values used for calculation\n",
    "      a, # Space-separated values used for calculation\n",
    "      sep=',' # Separator\n",
    "     )"
   ]
  },
  {
   "cell_type": "code",
   "execution_count": 115,
   "metadata": {},
   "outputs": [],
   "source": [
    "df = pd.DataFrame()"
   ]
  },
  {
   "cell_type": "code",
   "execution_count": 116,
   "metadata": {},
   "outputs": [],
   "source": [
    "df.feature_name = 'Name'"
   ]
  },
  {
   "cell_type": "code",
   "execution_count": 117,
   "metadata": {},
   "outputs": [
    {
     "data": {
      "text/html": [
       "<div>\n",
       "<style scoped>\n",
       "    .dataframe tbody tr th:only-of-type {\n",
       "        vertical-align: middle;\n",
       "    }\n",
       "\n",
       "    .dataframe tbody tr th {\n",
       "        vertical-align: top;\n",
       "    }\n",
       "\n",
       "    .dataframe thead th {\n",
       "        text-align: right;\n",
       "    }\n",
       "</style>\n",
       "<table border=\"1\" class=\"dataframe\">\n",
       "  <thead>\n",
       "    <tr style=\"text-align: right;\">\n",
       "      <th></th>\n",
       "    </tr>\n",
       "  </thead>\n",
       "  <tbody>\n",
       "  </tbody>\n",
       "</table>\n",
       "</div>"
      ],
      "text/plain": [
       "Empty DataFrame\n",
       "Columns: []\n",
       "Index: []"
      ]
     },
     "execution_count": 117,
     "metadata": {},
     "output_type": "execute_result"
    }
   ],
   "source": [
    "df"
   ]
  },
  {
   "cell_type": "code",
   "execution_count": 102,
   "metadata": {},
   "outputs": [
    {
     "data": {
      "text/plain": [
       "(8.170883310470066, 14.029116689529934)"
      ]
     },
     "execution_count": 102,
     "metadata": {},
     "output_type": "execute_result"
    }
   ],
   "source": [
    "args = {'alpha': 0.05, 'alternative':'two-sided'}\n",
    "sms.DescrStatsW(b).tconfint_mean(**args)"
   ]
  },
  {
   "cell_type": "code",
   "execution_count": 67,
   "metadata": {},
   "outputs": [
    {
     "name": "stdout",
     "output_type": "stream",
     "text": [
      "4.466666666666666,11.1\n"
     ]
    }
   ],
   "source": [
    "print(np.mean(a), np.mean(b), sep=',' )"
   ]
  },
  {
   "cell_type": "code",
   "execution_count": null,
   "metadata": {},
   "outputs": [],
   "source": []
  },
  {
   "cell_type": "code",
   "execution_count": 88,
   "metadata": {},
   "outputs": [],
   "source": [
    "with open(path+file_output, 'a') as f:\n",
    "    print(np.mean(a), np.mean(b), sep=',', file=f) \n",
    "f.close()"
   ]
  },
  {
   "cell_type": "code",
   "execution_count": 77,
   "metadata": {},
   "outputs": [],
   "source": []
  },
  {
   "cell_type": "code",
   "execution_count": 78,
   "metadata": {},
   "outputs": [
    {
     "data": {
      "text/plain": [
       "<_io.TextIOWrapper name='Results.csv' mode='a' encoding='UTF-8'>"
      ]
     },
     "execution_count": 78,
     "metadata": {},
     "output_type": "execute_result"
    }
   ],
   "source": []
  },
  {
   "cell_type": "code",
   "execution_count": null,
   "metadata": {},
   "outputs": [],
   "source": []
  }
 ],
 "metadata": {
  "kernelspec": {
   "display_name": "Python 3",
   "language": "python",
   "name": "python3"
  },
  "language_info": {
   "codemirror_mode": {
    "name": "ipython",
    "version": 3
   },
   "file_extension": ".py",
   "mimetype": "text/x-python",
   "name": "python",
   "nbconvert_exporter": "python",
   "pygments_lexer": "ipython3",
   "version": "3.6.4"
  }
 },
 "nbformat": 4,
 "nbformat_minor": 2
}
